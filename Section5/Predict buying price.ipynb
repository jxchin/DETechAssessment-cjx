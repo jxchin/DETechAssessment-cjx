{
 "cells": [
  {
   "cell_type": "code",
   "execution_count": 10,
   "id": "cc74dbc8",
   "metadata": {},
   "outputs": [
    {
     "name": "stdout",
     "output_type": "stream",
     "text": [
      "Collecting package metadata (current_repodata.json): ...working... done\n",
      "Solving environment: ...working... done\n",
      "\n",
      "## Package Plan ##\n",
      "\n",
      "  environment location: C:\\ProgramData\\anaconda3\n",
      "\n",
      "  added / updated specs:\n",
      "    - xgboost\n",
      "\n",
      "\n",
      "The following packages will be downloaded:\n",
      "\n",
      "    package                    |            build\n",
      "    ---------------------------|-----------------\n",
      "    _py-xgboost-mutex-2.0      |            cpu_0          11 KB  conda-forge\n",
      "    ca-certificates-2023.5.7   |       h56e8100_0         145 KB  conda-forge\n",
      "    certifi-2023.5.7           |     pyhd8ed1ab_0         149 KB  conda-forge\n",
      "    libxgboost-1.7.3           |       hd77b12b_0         1.5 MB\n",
      "    py-xgboost-1.7.3           |  py310haa95532_0         200 KB\n",
      "    xgboost-1.7.3              |  py310haa95532_0          12 KB\n",
      "    ------------------------------------------------------------\n",
      "                                           Total:         2.0 MB\n",
      "\n",
      "The following NEW packages will be INSTALLED:\n",
      "\n",
      "  _py-xgboost-mutex  conda-forge/win-64::_py-xgboost-mutex-2.0-cpu_0 \n",
      "  libxgboost         pkgs/main/win-64::libxgboost-1.7.3-hd77b12b_0 \n",
      "  py-xgboost         pkgs/main/win-64::py-xgboost-1.7.3-py310haa95532_0 \n",
      "  xgboost            pkgs/main/win-64::xgboost-1.7.3-py310haa95532_0 \n",
      "\n",
      "The following packages will be UPDATED:\n",
      "\n",
      "  ca-certificates    pkgs/main::ca-certificates-2023.01.10~ --> conda-forge::ca-certificates-2023.5.7-h56e8100_0 \n",
      "  certifi            pkgs/main/win-64::certifi-2022.12.7-p~ --> conda-forge/noarch::certifi-2023.5.7-pyhd8ed1ab_0 \n",
      "\n",
      "\n",
      "\n",
      "Downloading and Extracting Packages\n",
      "\n",
      "ca-certificates-2023 | 145 KB    |            |   0% \n",
      "\n",
      "_py-xgboost-mutex-2. | 11 KB     |            |   0% \u001b[A\n",
      "\n",
      "\n",
      "xgboost-1.7.3        | 12 KB     |            |   0% \u001b[A\u001b[A\n",
      "\n",
      "\n",
      "\n",
      "libxgboost-1.7.3     | 1.5 MB    |            |   0% \u001b[A\u001b[A\u001b[A\n",
      "\n",
      "\n",
      "\n",
      "\n",
      "py-xgboost-1.7.3     | 200 KB    |            |   0% \u001b[A\u001b[A\u001b[A\u001b[A\n",
      "\n",
      "\n",
      "\n",
      "\n",
      "\n",
      "certifi-2023.5.7     | 149 KB    |            |   0% \u001b[A\u001b[A\u001b[A\u001b[A\u001b[A\n",
      "\n",
      "\n",
      "\n",
      "\n",
      "py-xgboost-1.7.3     | 200 KB    | 7          |   8% \u001b[A\u001b[A\u001b[A\u001b[A\n",
      "\n",
      "\n",
      "\n",
      "libxgboost-1.7.3     | 1.5 MB    | 1          |   1% \u001b[A\u001b[A\u001b[A\n",
      "ca-certificates-2023 | 145 KB    | #1         |  11% \n",
      "\n",
      "\n",
      "\n",
      "libxgboost-1.7.3     | 1.5 MB    | #2         |  12% \u001b[A\u001b[A\u001b[A\n",
      "ca-certificates-2023 | 145 KB    | ########## | 100% \n",
      "ca-certificates-2023 | 145 KB    | ########## | 100% \n",
      "\n",
      "\n",
      "\n",
      "\n",
      "py-xgboost-1.7.3     | 200 KB    | ########## | 100% \u001b[A\u001b[A\u001b[A\u001b[A\n",
      "\n",
      "\n",
      "\n",
      "\n",
      "py-xgboost-1.7.3     | 200 KB    | ########## | 100% \u001b[A\u001b[A\u001b[A\u001b[A\n",
      "\n",
      "\n",
      "\n",
      "libxgboost-1.7.3     | 1.5 MB    | ####8      |  48% \u001b[A\u001b[A\u001b[A\n",
      "\n",
      "\n",
      "\n",
      "\n",
      "\n",
      "certifi-2023.5.7     | 149 KB    | #          |  11% \u001b[A\u001b[A\u001b[A\u001b[A\u001b[A\n",
      "\n",
      "\n",
      "\n",
      "libxgboost-1.7.3     | 1.5 MB    | ########## | 100% \u001b[A\u001b[A\u001b[A\n",
      "\n",
      "\n",
      "\n",
      "libxgboost-1.7.3     | 1.5 MB    | ########## | 100% \u001b[A\u001b[A\u001b[A\n",
      "\n",
      "\n",
      "xgboost-1.7.3        | 12 KB     | ########## | 100% \u001b[A\u001b[A\n",
      "\n",
      "\n",
      "xgboost-1.7.3        | 12 KB     | ########## | 100% \u001b[A\u001b[A\n",
      "\n",
      "_py-xgboost-mutex-2. | 11 KB     | ########## | 100% \u001b[A\n",
      "\n",
      "\n",
      "\n",
      "\n",
      "\n",
      "certifi-2023.5.7     | 149 KB    | ########## | 100% \u001b[A\u001b[A\u001b[A\u001b[A\u001b[A\n",
      "\n",
      "\n",
      "\n",
      "\n",
      "\n",
      "certifi-2023.5.7     | 149 KB    | ########## | 100% \u001b[A\u001b[A\u001b[A\u001b[A\u001b[A\n",
      "\n",
      "_py-xgboost-mutex-2. | 11 KB     | ########## | 100% \u001b[A\n",
      "                                                     \n",
      "\n",
      "\n",
      "                                                     \u001b[A\n",
      "\n",
      "\n",
      "                                                     \u001b[A\u001b[A\n",
      "\n",
      "\n",
      "\n",
      "                                                     \u001b[A\u001b[A\u001b[A\n",
      "\n",
      "\n",
      "\n",
      "\n",
      "                                                     \u001b[A\u001b[A\u001b[A\u001b[A\n",
      "\n",
      "\n",
      "\n",
      "\n",
      "\n",
      "                                                     \u001b[A\u001b[A\u001b[A\u001b[A\u001b[A\n",
      "\n",
      "Preparing transaction: ...working... done\n",
      "Verifying transaction: ...working... failed\n",
      "\n",
      "Note: you may need to restart the kernel to use updated packages.\n"
     ]
    },
    {
     "name": "stderr",
     "output_type": "stream",
     "text": [
      "\n",
      "EnvironmentNotWritableError: The current user does not have write permissions to the target environment.\n",
      "  environment location: C:\\ProgramData\\anaconda3\n",
      "\n",
      "\n"
     ]
    }
   ],
   "source": [
    "conda install -c conda-forge xgboost\n",
    "pip install xgboost"
   ]
  },
  {
   "cell_type": "code",
   "execution_count": null,
   "id": "65c357cf",
   "metadata": {},
   "outputs": [],
   "source": [
    "# Restart Kernel and start from the cell below."
   ]
  },
  {
   "cell_type": "code",
   "execution_count": 331,
   "id": "d43afd5e",
   "metadata": {
    "scrolled": false
   },
   "outputs": [],
   "source": [
    "import pandas as pd\n",
    "import numpy as np\n",
    "import xgboost as xgb\n",
    "from sklearn.tree import DecisionTreeClassifier\n",
    "from sklearn.model_selection import train_test_split \n",
    "from sklearn.metrics import accuracy_score\n",
    "from sklearn.preprocessing import LabelEncoder"
   ]
  },
  {
   "cell_type": "code",
   "execution_count": 3,
   "id": "54fb3f54",
   "metadata": {},
   "outputs": [],
   "source": [
    "df = pd.read_csv('./data/car.data', sep=',', header=None)"
   ]
  },
  {
   "cell_type": "code",
   "execution_count": 5,
   "id": "03ab14c4",
   "metadata": {},
   "outputs": [],
   "source": [
    "df.columns = ['buying','maint','doors','persons','lug_boot','safety','class']"
   ]
  },
  {
   "cell_type": "code",
   "execution_count": 7,
   "id": "e10208e1",
   "metadata": {},
   "outputs": [
    {
     "data": {
      "text/plain": [
       "(1728, 7)"
      ]
     },
     "execution_count": 7,
     "metadata": {},
     "output_type": "execute_result"
    }
   ],
   "source": [
    "df.shape"
   ]
  },
  {
   "cell_type": "code",
   "execution_count": 16,
   "id": "dfa56e14",
   "metadata": {},
   "outputs": [
    {
     "data": {
      "text/plain": [
       "vhigh    432\n",
       "high     432\n",
       "med      432\n",
       "low      432\n",
       "Name: buying, dtype: int64"
      ]
     },
     "execution_count": 16,
     "metadata": {},
     "output_type": "execute_result"
    }
   ],
   "source": [
    "df['buying'].value_counts()"
   ]
  },
  {
   "cell_type": "code",
   "execution_count": 27,
   "id": "70fd80bb",
   "metadata": {},
   "outputs": [
    {
     "data": {
      "text/plain": [
       "array(['vhigh', 'high', 'med', 'low'], dtype=object)"
      ]
     },
     "execution_count": 27,
     "metadata": {},
     "output_type": "execute_result"
    }
   ],
   "source": [
    "df['buying'].unique()"
   ]
  },
  {
   "cell_type": "code",
   "execution_count": 20,
   "id": "e40ba0d9",
   "metadata": {},
   "outputs": [
    {
     "data": {
      "text/plain": [
       "array(['vhigh', 'high', 'med', 'low'], dtype=object)"
      ]
     },
     "execution_count": 20,
     "metadata": {},
     "output_type": "execute_result"
    }
   ],
   "source": [
    "df['maint'].unique()"
   ]
  },
  {
   "cell_type": "code",
   "execution_count": 21,
   "id": "c71dfa8e",
   "metadata": {},
   "outputs": [
    {
     "data": {
      "text/plain": [
       "array(['2', '3', '4', '5more'], dtype=object)"
      ]
     },
     "execution_count": 21,
     "metadata": {},
     "output_type": "execute_result"
    }
   ],
   "source": [
    "df['doors'].unique()"
   ]
  },
  {
   "cell_type": "code",
   "execution_count": 22,
   "id": "6dc67827",
   "metadata": {},
   "outputs": [
    {
     "data": {
      "text/plain": [
       "array(['2', '4', 'more'], dtype=object)"
      ]
     },
     "execution_count": 22,
     "metadata": {},
     "output_type": "execute_result"
    }
   ],
   "source": [
    "df['persons'].unique()"
   ]
  },
  {
   "cell_type": "code",
   "execution_count": 23,
   "id": "df7fe48a",
   "metadata": {},
   "outputs": [
    {
     "data": {
      "text/plain": [
       "array(['small', 'med', 'big'], dtype=object)"
      ]
     },
     "execution_count": 23,
     "metadata": {},
     "output_type": "execute_result"
    }
   ],
   "source": [
    "df['lug_boot'].unique()"
   ]
  },
  {
   "cell_type": "code",
   "execution_count": 24,
   "id": "7a1ffdf0",
   "metadata": {},
   "outputs": [
    {
     "data": {
      "text/plain": [
       "array(['low', 'med', 'high'], dtype=object)"
      ]
     },
     "execution_count": 24,
     "metadata": {},
     "output_type": "execute_result"
    }
   ],
   "source": [
    "df['safety'].unique()"
   ]
  },
  {
   "cell_type": "code",
   "execution_count": 25,
   "id": "54d50ca5",
   "metadata": {},
   "outputs": [
    {
     "data": {
      "text/plain": [
       "array(['unacc', 'acc', 'vgood', 'good'], dtype=object)"
      ]
     },
     "execution_count": 25,
     "metadata": {},
     "output_type": "execute_result"
    }
   ],
   "source": [
    "df['class'].unique()"
   ]
  },
  {
   "cell_type": "code",
   "execution_count": 26,
   "id": "85e0bc96",
   "metadata": {},
   "outputs": [
    {
     "data": {
      "text/plain": [
       "unacc    1210\n",
       "acc       384\n",
       "good       69\n",
       "vgood      65\n",
       "Name: class, dtype: int64"
      ]
     },
     "execution_count": 26,
     "metadata": {},
     "output_type": "execute_result"
    }
   ],
   "source": [
    "df['class'].value_counts()"
   ]
  },
  {
   "cell_type": "code",
   "execution_count": 28,
   "id": "54e64e29",
   "metadata": {},
   "outputs": [
    {
     "data": {
      "text/plain": [
       "buying      0\n",
       "maint       0\n",
       "doors       0\n",
       "persons     0\n",
       "lug_boot    0\n",
       "safety      0\n",
       "class       0\n",
       "dtype: int64"
      ]
     },
     "execution_count": 28,
     "metadata": {},
     "output_type": "execute_result"
    }
   ],
   "source": [
    "df.isnull().sum()"
   ]
  },
  {
   "cell_type": "code",
   "execution_count": 31,
   "id": "3a51f0ee",
   "metadata": {},
   "outputs": [
    {
     "data": {
      "text/plain": [
       "buying      object\n",
       "maint       object\n",
       "doors       object\n",
       "persons     object\n",
       "lug_boot    object\n",
       "safety      object\n",
       "class       object\n",
       "dtype: object"
      ]
     },
     "execution_count": 31,
     "metadata": {},
     "output_type": "execute_result"
    }
   ],
   "source": [
    "df.dtypes"
   ]
  },
  {
   "cell_type": "code",
   "execution_count": 32,
   "id": "ccc9a8a9",
   "metadata": {},
   "outputs": [],
   "source": [
    "# Drop persons\n",
    "df.drop('persons', axis=1, inplace=True)"
   ]
  },
  {
   "cell_type": "code",
   "execution_count": 42,
   "id": "a7fc3e44",
   "metadata": {},
   "outputs": [],
   "source": [
    "# Encode categories. In this case, all features are categories\n",
    "features = ['maint','doors','lug_boot','safety','class']\n",
    "\n",
    "df = pd.get_dummies(df, columns=features)"
   ]
  },
  {
   "cell_type": "code",
   "execution_count": 340,
   "id": "c04bc0c0",
   "metadata": {},
   "outputs": [
    {
     "data": {
      "text/plain": [
       "buying            object\n",
       "maint_high         uint8\n",
       "maint_low          uint8\n",
       "maint_med          uint8\n",
       "maint_vhigh        uint8\n",
       "doors_2            uint8\n",
       "doors_3            uint8\n",
       "doors_4            uint8\n",
       "doors_5more        uint8\n",
       "lug_boot_big       uint8\n",
       "lug_boot_med       uint8\n",
       "lug_boot_small     uint8\n",
       "safety_high        uint8\n",
       "safety_low         uint8\n",
       "safety_med         uint8\n",
       "class_acc          uint8\n",
       "class_good         uint8\n",
       "class_unacc        uint8\n",
       "class_vgood        uint8\n",
       "dtype: object"
      ]
     },
     "execution_count": 340,
     "metadata": {},
     "output_type": "execute_result"
    }
   ],
   "source": [
    "df.dtypes # Check new df dtype"
   ]
  },
  {
   "cell_type": "code",
   "execution_count": 373,
   "id": "be1a0724",
   "metadata": {},
   "outputs": [],
   "source": [
    "# Split dataset for train test\n",
    "X = df.drop('buying', axis=1)\n",
    "y = df['buying']\n",
    "\n",
    "label_encoder = LabelEncoder()\n",
    "label_encoder = label_encoder.fit(y)\n",
    "label_encoded_y = label_encoder.transform(y)\n",
    "\n",
    "X_train, X_test, y_train, y_test = train_test_split(X, y, test_size=0.2, random_state=0)\n",
    "X_train2, X_test2, y_train2, y_test2 = train_test_split(X, label_encoded_y, test_size=0.3, random_state=7)"
   ]
  },
  {
   "cell_type": "code",
   "execution_count": 374,
   "id": "65a9e48c",
   "metadata": {},
   "outputs": [
    {
     "name": "stdout",
     "output_type": "stream",
     "text": [
      "Training Accuracy for max_depth 1 is:  0.27167630057803466\n",
      "Training Accuracy for max_depth 2 is:  0.2861271676300578\n",
      "Training Accuracy for max_depth 3 is:  0.30346820809248554\n",
      "Training Accuracy for max_depth 4 is:  0.3208092485549133\n",
      "Training Accuracy for max_depth 5 is:  0.28901734104046245\n",
      "Training Accuracy for max_depth 6 is:  0.27167630057803466\n",
      "Training Accuracy for max_depth 7 is:  0.24855491329479767\n",
      "Training Accuracy for max_depth 8 is:  0.18497109826589594\n",
      "Training Accuracy for max_depth 9 is:  0.15028901734104047\n"
     ]
    }
   ],
   "source": [
    "# Try Decision Tree Classifier\n",
    "for max_d in range(1, 10):\n",
    "    dtree = DecisionTreeClassifier(max_depth=max_d, random_state=42)\n",
    "    dtree.fit(X_train, y_train)\n",
    "    \n",
    "    print('Training Accuracy for max_depth {} is: '.format(max_d), dtree.score(X_test, y_test))\n",
    "    # Max_depth=4 gave the best score, 0.3208092485549133"
   ]
  },
  {
   "cell_type": "code",
   "execution_count": 375,
   "id": "0e289ad5",
   "metadata": {},
   "outputs": [
    {
     "name": "stdout",
     "output_type": "stream",
     "text": [
      "Training Accuracy for max_leaf 2 is:  0.27167630057803466\n",
      "Training Accuracy for max_leaf 3 is:  0.28901734104046245\n",
      "Training Accuracy for max_leaf 4 is:  0.2861271676300578\n",
      "Training Accuracy for max_leaf 5 is:  0.2861271676300578\n",
      "Training Accuracy for max_leaf 6 is:  0.3063583815028902\n",
      "Training Accuracy for max_leaf 7 is:  0.3352601156069364\n",
      "Training Accuracy for max_leaf 8 is:  0.32947976878612717\n",
      "Training Accuracy for max_leaf 9 is:  0.3265895953757225\n"
     ]
    }
   ],
   "source": [
    "for max_leaf in range(2, 10):\n",
    "    dtree = DecisionTreeClassifier(max_leaf_nodes=max_leaf, max_depth=4, random_state=42)\n",
    "    dtree.fit(X_train, y_train)\n",
    "    \n",
    "    print('Training Accuracy for max_leaf {} is: '.format(max_leaf), dtree.score(X_test, y_test))\n",
    "    # Max_leaf_nodes=7 gave the best score, 0.3352601156069364"
   ]
  },
  {
   "cell_type": "code",
   "execution_count": 384,
   "id": "f8a97984",
   "metadata": {},
   "outputs": [],
   "source": [
    "# Try XGBoost\n",
    "xgb_model = xgb.XGBClassifier(\n",
    "    booster='gbtree',\n",
    "    gamma=0,\n",
    "    learning_rate=0.2,\n",
    "    max_delta_step=0,\n",
    "    max_depth=1,\n",
    "    min_child_weight=2,\n",
    "    n_estimators=100,\n",
    "    objective='multi:softmax',\n",
    "    reg_alpha=0,\n",
    "    reg_lambda=1,\n",
    "    seed=0,\n",
    "    subsample=1\n",
    ")\n",
    "\n",
    "xgb_model.fit(X_train2, y_train2)\n",
    "xgb_y_predict = xgb_model.predict(X_test2)"
   ]
  },
  {
   "cell_type": "code",
   "execution_count": 385,
   "id": "3cc9c546",
   "metadata": {},
   "outputs": [
    {
     "name": "stdout",
     "output_type": "stream",
     "text": [
      "Accuracy of XGBoost Model:: 0.3179190751445087\n"
     ]
    }
   ],
   "source": [
    "print(\"Accuracy of XGBoost Model::\",accuracy_score(y_test2, xgb_y_predict))"
   ]
  },
  {
   "cell_type": "code",
   "execution_count": 389,
   "id": "7026baab",
   "metadata": {},
   "outputs": [],
   "source": [
    "val_input = [1,0,0,0,0,0,1,0,1,0,0,1,0,0,0,1,0,0]\n",
    "val_input = np.array(val_input)\n",
    "val_input = np.reshape(val_input, (1,-1))\n",
    "\n",
    "val = xgb_model.predict(val_input)"
   ]
  },
  {
   "cell_type": "code",
   "execution_count": 391,
   "id": "c5ca65fb",
   "metadata": {},
   "outputs": [
    {
     "name": "stdout",
     "output_type": "stream",
     "text": [
      "[1]\n"
     ]
    }
   ],
   "source": [
    "print(val) \n",
    "# Prediction: buying = low (31.7% confident... or 69.3% not confident sounds better)"
   ]
  },
  {
   "cell_type": "code",
   "execution_count": 394,
   "id": "b6c18297",
   "metadata": {},
   "outputs": [
    {
     "data": {
      "text/plain": [
       "array([3, 3, 3, ..., 1, 1, 1])"
      ]
     },
     "execution_count": 394,
     "metadata": {},
     "output_type": "execute_result"
    }
   ],
   "source": [
    "print(label_encoded_y)"
   ]
  },
  {
   "cell_type": "code",
   "execution_count": 395,
   "id": "b1074b08",
   "metadata": {},
   "outputs": [
    {
     "data": {
      "text/plain": [
       "0       vhigh\n",
       "1       vhigh\n",
       "2       vhigh\n",
       "3       vhigh\n",
       "4       vhigh\n",
       "        ...  \n",
       "1723      low\n",
       "1724      low\n",
       "1725      low\n",
       "1726      low\n",
       "1727      low\n",
       "Name: buying, Length: 1728, dtype: object"
      ]
     },
     "execution_count": 395,
     "metadata": {},
     "output_type": "execute_result"
    }
   ],
   "source": [
    "y"
   ]
  },
  {
   "cell_type": "code",
   "execution_count": null,
   "id": "f3610984",
   "metadata": {},
   "outputs": [],
   "source": []
  }
 ],
 "metadata": {
  "kernelspec": {
   "display_name": "Python 3 (ipykernel)",
   "language": "python",
   "name": "python3"
  },
  "language_info": {
   "codemirror_mode": {
    "name": "ipython",
    "version": 3
   },
   "file_extension": ".py",
   "mimetype": "text/x-python",
   "name": "python",
   "nbconvert_exporter": "python",
   "pygments_lexer": "ipython3",
   "version": "3.10.9"
  }
 },
 "nbformat": 4,
 "nbformat_minor": 5
}
